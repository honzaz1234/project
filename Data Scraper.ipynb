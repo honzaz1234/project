{
 "cells": [
  {
   "cell_type": "markdown",
   "id": "c5992e05",
   "metadata": {},
   "source": [
    "# Data Scraping \n",
    "\n",
    "We use the Jupyter Notebook to download data for different parameters of mobile phones from the Heureka.cz webpage. The data is further processed into a dataframe and saved into csv  file. This file is then used in next part of the project, in which a subset of the data is selected and relationship between mobile phone rating on the website and its parameters in analysed.   "
   ]
  },
  {
   "cell_type": "markdown",
   "id": "8ee8b359",
   "metadata": {},
   "source": [
    "## Packages\n",
    "\n",
    "There are 6 different packages used in order to scrap the data from the Heureka.cz website. The package requests is used to download html code from the individual webpages and we use the sleep function from time package to add delay between individual requests. Further, we use Selector from the scrapy library to create Selector object, from which the desired data can be extracted with xpath. The literal_eval function  from ast and loads function from json are used  to create a list and dictionary from a string. In the end we create a dataframe from a list of dicitonaries with the use of DataFrame function form pandas package.     "
   ]
  },
  {
   "cell_type": "code",
   "execution_count": 1,
   "id": "1b172e7b",
   "metadata": {},
   "outputs": [],
   "source": [
    "import requests\n",
    "import pandas as pd\n",
    "from time import sleep\n",
    "from scrapy import Selector\n",
    "from json import loads\n",
    "from ast import literal_eval"
   ]
  },
  {
   "cell_type": "markdown",
   "id": "13427cbf",
   "metadata": {},
   "source": [
    "## Functions and Classes"
   ]
  },
  {
   "cell_type": "markdown",
   "id": "842b7963",
   "metadata": {},
   "source": [
    "To create an algorithm to download desired data from the Heureka website, we first created function to attain all html code in a Selector object. The rest of the functions are divided into two classes. The objects are Url links in the class UrlHeureka and combination of selector and list in the GetDic class. The detailed explanation of the functions is provided within the code.   "
   ]
  },
  {
   "cell_type": "code",
   "execution_count": 53,
   "id": "044b0a6c",
   "metadata": {},
   "outputs": [],
   "source": [
    "def make_request(link):  #make a request #adds 10s delay before request\n",
    "        req1=requests.get(link).content #format that can be used in selector\n",
    "        return Selector(text=req1) #function returns selector object\n",
    "\n",
    "class UrlHeureka:\n",
    "    #the method has two attributes\n",
    "    def __init__(self,url): \n",
    "        self.url=url #the first one is url of the default webpage (in our case https://mobilni-telefony.heureka.cz/)\n",
    "        self.links=[] #used to collect links for the indvidiual mobile phones web page\n",
    "        self.control=0  #used to end the loop after the last available page\n",
    "    def get_links(self,page_count):\n",
    "        url1=self.url+\"/?f=\"+str(page_count) #used in getting links for the individual phones, moves to the next subpage of the default webpage\n",
    "        req1=make_request(url1) #using function to get selector object\n",
    "        urls=req1.xpath('//li[@class=\"c-product-list__item\"]/section[@class=\"c-product\"]/a[1]/@href').getall() # returns all url links to mobile phone pages\n",
    "        if len(urls)==0: #when we reach the page with no links\n",
    "            self.control=1 #*self control variable changes to 1, which ends the loop \n",
    "        for x in urls:\n",
    "            self.links.append(x) #all the links from 1 subpage appended to object attribute list, where all links for all subpages are stored \n",
    "    def clean_links(self):#filters pages from other sites than heureka.cz\n",
    "        helplist=[] \n",
    "        for x in self.links: #sites in which string .cz/exit/ is included are exclued from the dataset, becase they link to pages outside Heureka \n",
    "            if \".cz/exit/\" not in x:\n",
    "                helplist.append(x) #the links that fullfil the condition are appended to the help list\n",
    "        self.links=list(helplist) #object attribute list contains only filtred urls     \n",
    "\n",
    "class GetDic:\n",
    "    def __init__(self,sel): #class GetDic contains 2 attributes, selector object and dictionary \n",
    "        self.sel=sel\n",
    "        self.dic_par={}\n",
    "    def dic_creat(self):\n",
    "        #the first path returns parameters names, the second one their respective values\n",
    "        list1=self.sel.xpath('//div[@class=\"o-layout__item c-parameters\"]//div[@class=\"c-parameters-box\"]//div[@class=\"o-layout__item c-parameters-box__parameter-name\"]//text()').getall()\n",
    "        list2=self.sel.xpath('//div[@class=\"o-layout__item c-parameters\"]//div[@class=\"c-parameters-box\"]//div[@class=\"o-layout__item c-parameters-box__parameter-value u-bold\"]//text()[1]').getall()\n",
    "        if len(list1)==len(list2): #sometimes there is no value for Vyrobce parameter or both are missing\n",
    "            if \"Výrobce\" in list1: #if there is same number of parameters and values, both Vyrobce parameter and its value are excluded from the dataset, if the Vyrobce parameter is included \n",
    "                list1.remove(\"Výrobce\") \n",
    "                list2.pop(0)\n",
    "        else:\n",
    "            if \"Výrobce\" in list1: #if there is less values than parameter that means that only Vyrobce parameter is included and its value is not\n",
    "                list1.remove(\"Výrobce\")   \n",
    "        for key in list1: #iterrates over entire list 1\n",
    "            for value in list2: #iterrates over entire list2\n",
    "                self.dic_par[key]=value #name from the list1 is used as a key and name from the list 2 is used as a value\n",
    "                list2.remove(value) #removes the value from the list2, because we always use  the first one\n",
    "                break #breaks the second for loop so the other combinations with value from the list 1 are not added\n",
    "    def get_sum(self): #gets summary information from the same page as the parameter names and values\n",
    "        path1=self.sel.xpath('//meta[@name=\"gtm:ecommerce:detail:products\"]/@content').get() #path to the summary information\n",
    "        if path1 is None: #in rare cases the information is not available and it causes error, because load function can not procces empty string \n",
    "            return None\n",
    "        elif len(path1)==0:#so if the path is empty, None value is returned\n",
    "            return None \n",
    "        self.dic_sumary=loads(path1)[0] #creates a list from a text\n",
    "        self.dic_par.update(self.dic_sumary) #adds values from the dictionary to the \n",
    "    def get_rat(self): #adds variable with number of ratings on Heureka website \n",
    "        dic1={}\n",
    "        path1=self.sel.xpath('//div[@class=\"c-pipe-list u-standard-top-margin\"]//p[@class=\"c-pipe-list__item\"]//text()').get()\n",
    "        path2=self.sel.xpath('//p[@class=\"c-rating-widget c-pipe-list__item u-color-highlight\"]//text()[1]').get()\n",
    "        if (path1 is None) or (path2 is None):\n",
    "            return None\n",
    "        elif (len(path1)==0) or (len(path2)==0):\n",
    "            return None\n",
    "        path1=path1.split(\" \") #we attain a single string from the path, which we divided into individual words\n",
    "        dic1[\"numberofratings\"]=path1[2] #the second word is number of ratings, the third is used as a name of the variable, we add them togehter into a dictionary\n",
    "        dic1[\"ratingH\"]=path2\n",
    "        self.dic_par.update(dic1) #we add the values to object attribute list\n",
    "    def complete_dictionary(self): #function that creates the dictionary for one mobile phone\n",
    "        self.dic_creat()\n",
    "        self.get_rat()\n",
    "        self.get_sum()\n",
    "        return self.dic_par\n",
    "\n",
    "    "
   ]
  },
  {
   "cell_type": "markdown",
   "id": "3b4e5ac7",
   "metadata": {},
   "source": [
    "## Downloading URLs\n",
    "\n",
    "We acess all of the subpages code with the while loop, for each iterration one subpage is scraped for the links of the individual mobile phones. Before the beginning of the loop we create variable page_count, which is used to move between the indvidiual  subpages and create object of the class UrlHeureka that is used to download and store links to the individual mobile phones pages. With each iterration we add 1 to the source_page variable so the function get_links downloads the links from another subpage. When we reach subpage, where there are no links, the source_page object control is set to 1, which ends the loop. In the end we filter out the links that are from other webpages, check if the links are in the right format and save them as a text file so we do not have to scrap them again."
   ]
  },
  {
   "cell_type": "code",
   "execution_count": 38,
   "id": "60a0bdee",
   "metadata": {},
   "outputs": [],
   "source": [
    "page_count=0 \n",
    "source_page=UrlHeureka('https://mobilni-telefony.heureka.cz/') \n",
    "while source_page.control==0: \n",
    "    page_count+=1 \n",
    "    source_page.get_links(page_count)\n"
   ]
  },
  {
   "cell_type": "code",
   "execution_count": 39,
   "id": "64f926ec",
   "metadata": {},
   "outputs": [
    {
     "name": "stdout",
     "output_type": "stream",
     "text": [
      "1334\n",
      "1038\n",
      "['https://mobilni-telefony.heureka.cz/poco-x3-pro-8gb-256gb/', 'https://mobilni-telefony.heureka.cz/apple-iphone-13-128gb/', 'https://mobilni-telefony.heureka.cz/xiaomi-redmi-note-9-pro-6gb-128gb/', 'https://mobilni-telefony.heureka.cz/poco-f3-8gb-256gb/', 'https://mobilni-telefony.heureka.cz/xiaomi-redmi-9a-2gb-32gb/', 'https://mobilni-telefony.heureka.cz/apple-iphone-se-2020-64gb/', 'https://mobilni-telefony.heureka.cz/apple-iphone-12-mini-64gb/', 'https://mobilni-telefony.heureka.cz/apple-iphone-13-pro-128gb/', 'https://mobilni-telefony.heureka.cz/apple-iphone-11-64gb/']\n"
     ]
    }
   ],
   "source": [
    "print(len(source_page.links))\n",
    "source_page.clean_links() \n",
    "print(len(source_page.links)) \n",
    "print(source_page.links[1:10]) "
   ]
  },
  {
   "cell_type": "code",
   "execution_count": 40,
   "id": "79d71e18",
   "metadata": {},
   "outputs": [],
   "source": [
    "with open(\"urllist.txt\", \"w\") as output: \n",
    "    output.write(str(source_page.links))"
   ]
  },
  {
   "cell_type": "code",
   "execution_count": 41,
   "id": "8376e25e",
   "metadata": {},
   "outputs": [],
   "source": [
    "list_url = open(\"urllist.txt\", \"r\")\n",
    "list_url=list_url.read() \n",
    "list_url = literal_eval(list_url)"
   ]
  },
  {
   "cell_type": "code",
   "execution_count": 42,
   "id": "45c69fcb",
   "metadata": {},
   "outputs": [
    {
     "name": "stdout",
     "output_type": "stream",
     "text": [
      "['https://mobilni-telefony.heureka.cz/poco-x3-pro-8gb-256gb/', 'https://mobilni-telefony.heureka.cz/apple-iphone-13-128gb/', 'https://mobilni-telefony.heureka.cz/xiaomi-redmi-note-9-pro-6gb-128gb/', 'https://mobilni-telefony.heureka.cz/poco-f3-8gb-256gb/', 'https://mobilni-telefony.heureka.cz/xiaomi-redmi-9a-2gb-32gb/', 'https://mobilni-telefony.heureka.cz/apple-iphone-se-2020-64gb/', 'https://mobilni-telefony.heureka.cz/apple-iphone-12-mini-64gb/', 'https://mobilni-telefony.heureka.cz/apple-iphone-13-pro-128gb/', 'https://mobilni-telefony.heureka.cz/apple-iphone-11-64gb/']\n"
     ]
    },
    {
     "data": {
      "text/plain": [
       "1038"
      ]
     },
     "execution_count": 42,
     "metadata": {},
     "output_type": "execute_result"
    }
   ],
   "source": [
    "print(list_url[1:10]) \n",
    "len(list_url)"
   ]
  },
  {
   "cell_type": "markdown",
   "id": "bc08441d",
   "metadata": {},
   "source": [
    "## Creating Data Frame\n",
    "\n",
    "To create a dataframe with the values of mobile phone parameters, we first iterrate over all the links we downloaded in the previous step. With each iterration, we make request to the 1 mobile phone webpage and create a selector with make_request function. Than we create a GetDic object, which is used to create a dictionary of all the parameters of an individual mobile phone and their values. The function used to create dictionary with all of the parameters is called complete_dictionary. All the dicitonaries are appended to the list called listofdic, which after completing the for loop used to create data frame with the help of DataFrame function from pandas package. In the end, we check that the data is downloaded in the right way and save the data frame as a csv file. "
   ]
  },
  {
   "cell_type": "code",
   "execution_count": 57,
   "id": "90b6ac5e",
   "metadata": {},
   "outputs": [],
   "source": [
    "listofdic=[] \n",
    "for x in list_url: \n",
    "    req1=make_request(x) \n",
    "    mp1=GetDic(req1)\n",
    "    all_parameters=mp1.complete_dictionary()\n",
    "    listofdic.append(all_parameters) \n",
    "df1=pd.DataFrame(listofdic) "
   ]
  },
  {
   "cell_type": "code",
   "execution_count": 58,
   "id": "19d7d73c",
   "metadata": {},
   "outputs": [
    {
     "name": "stdout",
     "output_type": "stream",
     "text": [
      "[{'Konstrukce': 'dotykové', 'Operační systém': 'Android', 'Verze operačního systému': 'Android 11', 'Hmotnost': '215', 'Možnost paměťové karty': 'ano', 'Paměť RAM': '8192', 'Produktová řada': 'Poco X3 Pro', 'Modelový rok': '2021', 'Velikost displeje': '6.67', 'Rozlišení displeje': '2400 x 1080', 'Poměr stran displeje': '20:9', 'Počet displejů': '1', 'Typ displeje': 'IPS LCD', 'Jemnost displeje (PPI)': '395', 'Výška': '165.3', 'Šířka': '76.8', 'Hloubka': '9.4', 'Fotoaparát': 'ano', 'Rozlišení fotoaparátu': '48', 'Blesk': 'ano', 'HD video': 'ano', 'Přední kamera': 'ano', 'Počet objektivů zadního fotoaparátu': '4 objektivy', 'Počet objektivů předního fotoaparátu': '1 objektiv', 'Světelnost objektivu hlavního fotoaparátu': 'f/1.8', 'Světelnost objektivu předního fotoaparátu': 'f/2.2', 'Maximální rozlišení videa': '2160p (4K)', 'Google Pay': 'ano', 'Odemykání obličejem': 'ano', 'Jack 3,5': 'ano', 'Snímač otisků prstů': 'ano', 'Typ nabíječky (konektor)': 'USB-C', 'USB On-The-Go': 'ano', 'Rychlonabíjení': 'ano', 'Sluchátkový konektor': '3,5mm Jack', 'Verze Bluetooth': '5.0', 'Skóre Antutu': '453223', 'Kapacita baterie': '5160', 'Frekvence procesoru': '2.96', 'Počet jader procesoru': '8', 'Uživatelská paměť': '256', 'Dual SIM': 'ano', 'Akcelerometr (G-senzor)': 'ano', 'Gyroskopický senzor': 'ano', 'Konektor USB-C': 'ano', 'GPS modul': 'ano', 'WiFi': 'ano', 'Bluetooth': 'ano', 'NFC': 'ano', 'LTE': 'ano', 'Typ SIM karty': 'nanoSIM', 'numberofratings': '92', 'ratingH': '94', 'brand': 'Poco', 'id': '944303161', 'name': 'Poco X3 Pro 8GB/256GB', 'offersBidded': 4, 'offersFree': 67, 'priceMin': 5725.84, 'priceMax': 8401, 'rating': 95, 'reviews': 87549, 'topProductsPosition': 2}, {'Konstrukce': 'dotykové', 'Operační systém': 'iOS', 'Verze operačního systému': 'iOS 15', 'Hmotnost': '174', 'Možnost paměťové karty': 'ne', 'Paměť RAM': '4096', 'Odolné': 'ano', 'Modelový rok': '2021', 'Produktová řada': 'Apple iPhone 13', 'Velikost displeje': '6.1', 'Rozlišení displeje': '2532 x 1170', 'Poměr stran displeje': '19.5:9', 'Typ displeje': 'Super Retina XDR OLED', 'Jemnost displeje (PPI)': '460', 'Výška': '146.7', 'Šířka': '71.5', 'Hloubka': '7.7', 'Fotoaparát': 'ano', 'Rozlišení fotoaparátu': '12', 'Blesk': 'ano', 'HD video': 'ano', 'Přední kamera': 'ano', 'Počet objektivů zadního fotoaparátu': '2 objektivy', 'Počet objektivů předního fotoaparátu': '1 objektiv', 'Světelnost objektivu hlavního fotoaparátu': 'f/1.6', 'Světelnost objektivu předního fotoaparátu': 'f/2.2', 'Maximální rozlišení videa': '2160p (4K)', 'Apple Pay': 'ano', 'Odemykání obličejem': 'ano', 'Jack 3,5': 'ne', 'Voděodolný': 'ano', 'Rychlonabíjení': 'ano', 'Verze Bluetooth': '5.0', 'Kapacita baterie': '3240', 'Bezdrátové nabíjení Qi': 'ano', 'Frekvence procesoru': '3.22', 'Počet jader procesoru': '6', 'Uživatelská paměť': '128', 'Dual SIM': 'ano', 'Akcelerometr (G-senzor)': 'ano', 'Gyroskopický senzor': 'ano', 'GPS modul': 'ano', 'WiFi': 'ano', 'Bluetooth': 'ano', 'NFC': 'ano', 'LTE': 'ano', '5G': 'ano', 'Typ SIM karty': 'nanoSIM', 'numberofratings': '24', 'ratingH': '95', 'brand': 'Apple', 'id': '982205784', 'name': 'Apple iPhone 13 128GB', 'offersBidded': 4, 'offersFree': 70, 'priceMin': 19995, 'priceMax': 28574, 'rating': 96, 'reviews': 6510, 'topProductsPosition': 4}]\n"
     ]
    }
   ],
   "source": [
    "print(listofdic[1:3]) "
   ]
  },
  {
   "cell_type": "code",
   "execution_count": 59,
   "id": "ae8d107e",
   "metadata": {},
   "outputs": [
    {
     "name": "stdout",
     "output_type": "stream",
     "text": [
      "  Konstrukce Operační systém Verze operačního systému Hmotnost  \\\n",
      "1   dotykové         Android               Android 11      215   \n",
      "2   dotykové             iOS                   iOS 15      174   \n",
      "3   dotykové         Android               Android 10      209   \n",
      "4   dotykové         Android               Android 11      196   \n",
      "5   dotykové         Android               Android 10      196   \n",
      "6   dotykové             iOS                   iOS 13      148   \n",
      "7   dotykové             iOS                   iOS 14      133   \n",
      "8   dotykové             iOS                   iOS 15      203   \n",
      "9   dotykové             iOS                   iOS 13      194   \n",
      "\n",
      "  Možnost paměťové karty Paměť RAM          Produktová řada Modelový rok  \\\n",
      "1                    ano      8192              Poco X3 Pro         2021   \n",
      "2                     ne      4096          Apple iPhone 13         2021   \n",
      "3                    ano      6144  Xiaomi Redmi Note 9 Pro         2020   \n",
      "4                    NaN      8192                  Poco F3         2021   \n",
      "5                    ano      2048          Xiaomi Redmi 9A         2020   \n",
      "6                     ne      3072          Apple iPhone SE         2020   \n",
      "7                     ne      4096     Apple iPhone 12 mini         2020   \n",
      "8                     ne      6144      Apple iPhone 13 Pro         2021   \n",
      "9                     ne      4096          Apple iPhone 11         2019   \n",
      "\n",
      "  Velikost displeje Rozlišení displeje  ... Kalkulačka Trojitý fotoaparát  \\\n",
      "1              6.67        2400 x 1080  ...        NaN                NaN   \n",
      "2               6.1        2532 x 1170  ...        NaN                NaN   \n",
      "3              6.67        2340 x 1080  ...        ano                NaN   \n",
      "4              6.67        2400 x 1080  ...        NaN                ano   \n",
      "5              6.53         1600 x 720  ...        ano                NaN   \n",
      "6               4.7         1334 x 750  ...        ano                NaN   \n",
      "7               5.4        2340 x 1080  ...        ano                NaN   \n",
      "8               6.1        2532 x 1170  ...        ano                NaN   \n",
      "9               6.1         1792 x 828  ...        ano                 ne   \n",
      "\n",
      "  Pohotovostní doba Doba hovoru FM rádio Duální fotoaparát  \\\n",
      "1               NaN         NaN      NaN               NaN   \n",
      "2               NaN         NaN      NaN               NaN   \n",
      "3               NaN         NaN      NaN               NaN   \n",
      "4               268         NaN      NaN               NaN   \n",
      "5               NaN        2280      ano               NaN   \n",
      "6               NaN         NaN       ne                ne   \n",
      "7               NaN         NaN      NaN               ano   \n",
      "8               NaN         NaN      NaN               NaN   \n",
      "9               NaN         NaN       ne               ano   \n",
      "\n",
      "  Notifikační LED dioda Výměnné kryty Pro seniory Termokamera  \n",
      "1                   NaN           NaN         NaN         NaN  \n",
      "2                   NaN           NaN         NaN         NaN  \n",
      "3                   NaN           NaN         NaN         NaN  \n",
      "4                   NaN           NaN         NaN         NaN  \n",
      "5                   NaN           NaN         NaN         NaN  \n",
      "6                    ne           NaN         NaN         NaN  \n",
      "7                   NaN           NaN         NaN         NaN  \n",
      "8                   NaN           NaN         NaN         NaN  \n",
      "9                   NaN            ne         NaN         NaN  \n",
      "\n",
      "[9 rows x 93 columns]\n"
     ]
    }
   ],
   "source": [
    "print(df1[1:10]) \n",
    "df1.to_csv('raw_data.csv', index = None, header=True,encoding='utf-8')"
   ]
  },
  {
   "cell_type": "code",
   "execution_count": null,
   "id": "dbbf41a2",
   "metadata": {},
   "outputs": [],
   "source": [
    "#zaloha\n",
    "path=req1.xpath('//div[@class=\"o-layout__item c-parameters\"]//div[@class=\"c-parameters-box\"]//div[@class=\"o-layout__item c-parameters-box__parameter-name\"]//text()').getall()\n",
    "print(path)\n",
    "\n",
    "path2=req1.xpath('//div[@class=\"o-layout__item c-parameters\"]//div[@class=\"c-parameters-box\"]//div[@class=\"o-layout__item c-parameters-box__parameter-value u-bold\"]//text()[1]').getall()\n",
    "print(path2)\n",
    "dic_creat(req1)"
   ]
  }
 ],
 "metadata": {
  "kernelspec": {
   "display_name": "Python 3 (ipykernel)",
   "language": "python",
   "name": "python3"
  },
  "language_info": {
   "codemirror_mode": {
    "name": "ipython",
    "version": 3
   },
   "file_extension": ".py",
   "mimetype": "text/x-python",
   "name": "python",
   "nbconvert_exporter": "python",
   "pygments_lexer": "ipython3",
   "version": "3.9.7"
  }
 },
 "nbformat": 4,
 "nbformat_minor": 5
}
