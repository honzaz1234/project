{
 "cells": [
  {
   "cell_type": "code",
   "execution_count": 76,
   "id": "e03272fa",
   "metadata": {},
   "outputs": [],
   "source": [
    "import requests\n",
    "from bs4 import BeautifulSoup\n",
    "import pandas as pd\n",
    "from time import sleep\n",
    "from tqdm import tqdm\n",
    "import re\n",
    "from scrapy import Selector\n",
    "import json\n",
    "from ast import literal_eval"
   ]
  },
  {
   "cell_type": "code",
   "execution_count": 157,
   "id": "f98e2676",
   "metadata": {},
   "outputs": [],
   "source": [
    "def make_request(link): #make a request\n",
    "    req1=requests.get(link).content #format that can be used in selector\n",
    "    return Selector(text=req1) #function returns selector object\n",
    "def get_links(link):\n",
    "    a=make_request(link) #using function to get selector object\n",
    "    return a.xpath('//li[@class=\"c-product-list__item\"]/section[@class=\"c-product\"]/a[1]/@href').getall() # returns all text with selected html path\n",
    "def next_page_H(link):\n",
    "    return link+\"/?f=\"+str(page_count) #used in getting links for the individual phones, moves to the next page in the website \n",
    "def strip_text(string1): # used to clean text from the request\n",
    "    string1=string1.replace(\"\\n\",\"\") #removes \\n from the text\n",
    "    string1=string1.strip() #removes blank space at the beginning and in the end\n",
    "    return string1\n",
    "def strip_text_l(string1): #lighter version\n",
    "    string1=string1.strip()\n",
    "    return string1\n",
    "def get_names(sel1):#used to get names of the parameters for the individual parameters\n",
    "    list1=[] #creates list \n",
    "    list3=[]\n",
    "    path_names_h=sel1.xpath('//div[@class=\"o-layout__item c-parameters\"]//div[@class=\"o-layout o-layout--equal c-parameters-box__group\"]/div[@class=\"o-layout__item c-parameters-box__parameter-name\"]/div[@class=\"c-modal c-parameters-description-modal js-modal\"]/a[@class=\"c-modal__toggle c-parameters-description-modal__toggle js-modal__toggle e-action js-specification-parameter\"]/text()').getall()\n",
    "    path_names_n=sel1.xpath('//div[@class=\"o-layout__item c-parameters\"]//div[@class=\"o-layout o-layout--equal c-parameters-box__group\"]/div[@class=\"o-layout__item c-parameters-box__parameter-name\"]/text()[1]').getall()\n",
    "    #paths to the names of the parameters that are stored in two different positions\n",
    "    for x in path_names_h:\n",
    "        b=strip_text_l(x) #strips blank spaces and \\n from the individual names\n",
    "        list3.append(b)   #appends names to the lsit created in the beginning\n",
    "    for x in path_names_n:\n",
    "        b=strip_text(x)\n",
    "        list1.append(b)\n",
    "        pom1=-1\n",
    "    for x in list1: #adds names from list 3 to empty positions in list \n",
    "        pom1+=1\n",
    "        if x==\"\": #when the list position in the list 1 is empty*\n",
    "            list1[pom1]=list3[0] #*it adds name from the list3\n",
    "            list3.pop(0) #and deletes the name from list3, so it is not used more than once\n",
    "    return list1\n",
    "def get_values(sel1): #used to get parameter values, similiar code to get_names\n",
    "    list2=[]\n",
    "    list2_2=[]\n",
    "    path_values=sel1.xpath('//div[@class=\"o-layout__item c-parameters\"]/section/div[@class=\"c-accordion__content c-parameters-box__parameters-content js-accordion__content\"]/div[@class=\"o-layout o-layout--equal c-parameters-box__group\"]/div[@class=\"o-layout__item c-parameters-box__parameter-value\"]/text()').getall()\n",
    "    for x in path_values:\n",
    "        b=strip_text(x)\n",
    "        list2.append(b)\n",
    "    return list2\n",
    "def dic_creat(list1,list2): #combine the parameter names and values to a dictionary\n",
    "    dic1={} #creates empty dictionary\n",
    "    for key in list1: #iterrates over entire list 1\n",
    "        for value in list2: #iterrates over entire list2\n",
    "            dic1[key]=value #name from the list1 is used as a key and name from the list 2 is used as a value\n",
    "            list2.remove(value) #removes the value from the list2, because we always use the first one\n",
    "            break #breaks the second for loop so the other combinations with value from the list 1 are not added\n",
    "    return dic1\n",
    "def get_sum(sel1): #gets summary information from the same page as the parameter names and values\n",
    "    path1=sel1.xpath('//meta[@name=\"gtm:ecommerce:detail:products\"]/@content').get() #path to the summary information\n",
    "    dic1=json.loads(path1)[0]\n",
    "     #creates list from path object and selects the first value (dictionary)\n",
    "    return dic1  #function returns dictionary\n",
    "def merge_dic(dic1,dic2): #merges two dictinaries\n",
    "    dic1.update(dic2)\n",
    "    return dic1\n",
    "def clean_links(list1):#filters pages from other sites than heureka.cz\n",
    "    for x in list1:\n",
    "        if \".cz/exit/\" in x:\n",
    "            list1.remove(x)\n",
    "    return list1\n"
   ]
  },
  {
   "cell_type": "code",
   "execution_count": 143,
   "id": "e7d6a9be",
   "metadata": {
    "scrolled": true
   },
   "outputs": [
    {
     "name": "stdout",
     "output_type": "stream",
     "text": [
      "1333\n"
     ]
    }
   ],
   "source": [
    "n=0\n",
    "page_count=0\n",
    "u_links=[]\n",
    "page_num=56\n",
    "while page_count<page_num: #loop to used to run through all pages with the mobile phones indvidual URLs\n",
    "    page_count+=1 #variable used in the next_page_h function\n",
    "    link1=next_page_H('https://mobilni-telefony.heureka.cz/') #creates link with the page from which request shoould be made\n",
    "    b=get_links(link1) #gets links from the created page\n",
    "    for x in b:#append link to the list\n",
    "        u_links.append(x) \n",
    "print(len(u_links))#number of links\n"
   ]
  },
  {
   "cell_type": "code",
   "execution_count": 161,
   "id": "1ae9b329",
   "metadata": {},
   "outputs": [
    {
     "name": "stdout",
     "output_type": "stream",
     "text": [
      "1004\n"
     ]
    }
   ],
   "source": [
    "u_links=clean_links(u_links) #remove pages from other sites\n",
    "print(len(u_links))#number of links"
   ]
  },
  {
   "cell_type": "code",
   "execution_count": 162,
   "id": "a9a7349b",
   "metadata": {},
   "outputs": [],
   "source": [
    "with open(\"urllist.txt\", \"w\") as output: #saves the list with urls as a text file\n",
    "    output.write(str(u_links))"
   ]
  },
  {
   "cell_type": "code",
   "execution_count": 163,
   "id": "e322d644",
   "metadata": {},
   "outputs": [
    {
     "name": "stdout",
     "output_type": "stream",
     "text": [
      "1004\n"
     ]
    }
   ],
   "source": [
    "list_url = open(\"urllist.txt\", \"r\") #loads list of url from file so the previous code does not need to be run again\n",
    "list_url=list_url.read() \n",
    "list_url = literal_eval(list_url)#creates a list from the loaded string"
   ]
  },
  {
   "cell_type": "code",
   "execution_count": 165,
   "id": "5942c18e",
   "metadata": {},
   "outputs": [],
   "source": [
    "listofdic=[] #empty list used to store infomration on the all mobile phones before it is transformed into a dataframe\n",
    "q=-1\n",
    "for x in list_url: #gets the information on the individual mobile phones\n",
    "    q+=1\n",
    "    req1=make_request(x) #gets the html for the mobile phone page\n",
    "    dic_names=get_names(req1) #gets the parameter names \n",
    "    dic_values=get_values(req1) #gets the parameter values\n",
    "    namesnvalues=dic_creat(dic_names,dic_values) #creates dictionary, where the names are keys and values values\n",
    "    info_dic=get_sum(req1) #gets summary information on the mobile phone\n",
    "    all_data=merge_dic(info_dic,namesnvalues) #combines two previous dictionaries into one \n",
    "    listofdic.append(all_data) #append dictionary to the list\n",
    "df1=pd.DataFrame(listofdic) #creates dataframe of the list of dictionaries"
   ]
  },
  {
   "cell_type": "code",
   "execution_count": 167,
   "id": "ae34b76f",
   "metadata": {},
   "outputs": [],
   "source": [
    "df1.to_csv('mobilephonesdata.csv', index = None, header=True,encoding='utf-8') #saves the dataframe into a csv file"
   ]
  },
  {
   "cell_type": "code",
   "execution_count": null,
   "id": "005a6433",
   "metadata": {},
   "outputs": [],
   "source": [
    "df_mp=pd.read_csv('mobilephonesdata.csv')  #loads csv file with the dataframe\n",
    "print(df_mp)"
   ]
  },
  {
   "cell_type": "code",
   "execution_count": 23,
   "id": "0307f46a",
   "metadata": {},
   "outputs": [
    {
     "ename": "SyntaxError",
     "evalue": "invalid syntax (Temp/ipykernel_16200/3238577362.py, line 4)",
     "output_type": "error",
     "traceback": [
      "\u001b[1;36m  File \u001b[1;32m\"C:\\Users\\jziac\\AppData\\Local\\Temp/ipykernel_16200/3238577362.py\"\u001b[1;36m, line \u001b[1;32m4\u001b[0m\n\u001b[1;33m    path_names_n=a.xpath('//div[@class=\"o-layout__item c-parameters\"]//div[@class=\"o-layout o-layout--equal c-parameters-box__group\"]/div[@class=\"o-layout__item c-parameters-box__parameter-name\"]/text()[1]').getall()\u001b[0m\n\u001b[1;37m    ^\u001b[0m\n\u001b[1;31mSyntaxError\u001b[0m\u001b[1;31m:\u001b[0m invalid syntax\n"
     ]
    }
   ],
   "source": [
    "# paths back up\n",
    "path_names_h=a.xpath('//div[@class=\"o-layout__item c-parameters\"]//div[@class=\"o-layout o-layout--equal c-parameters-box__group\"]/div[@class=\"o-layout__item c-parameters-box__parameter-name\"]/div[@class=\"c-modal c-parameters-description-modal js-modal\"]/a[@class=\"c-modal__toggle c-parameters-description-modal__toggle js-modal__toggle e-action js-specification-parameter\"]/text()').getall(\n",
    "path_values=a.xpath('//div[@class=\"o-layout__item c-parameters\"]/section/div[@class=\"c-accordion__content c-parameters-box__parameters-content js-accordion__content\"]/div[@class=\"o-layout o-layout--equal c-parameters-box__group\"]/div[@class=\"o-layout__item c-parameters-box__parameter-value\"]/text()').getall()\n",
    "path_names_n=a.xpath('//div[@class=\"o-layout__item c-parameters\"]//div[@class=\"o-layout o-layout--equal c-parameters-box__group\"]/div[@class=\"o-layout__item c-parameters-box__parameter-name\"]/text()[1]').getall()\n",
    "# \n",
    "a=get_names('https://mobilni-telefony.heureka.cz/nokia-3310-2017-dual-sim/')\n",
    "b=get_values('https://mobilni-telefony.heureka.cz/nokia-3310-2017-dual-sim/')\n",
    "d1=dic_creat(a,b)\n",
    "d2=get_sum('https://mobilni-telefony.heureka.cz/nokia-3310-2017-dual-sim/')\n",
    "print(d1)\n",
    "print(d2)\n",
    "c=merge_dic(d2,d1)\n",
    "print(c)\n",
    "#\n",
    "print(get_prodname(\"https://mobilni-telefony.heureka.cz/cpa-halo-11/\"))\n",
    "#\n",
    "print(get_parameters('https://mobilni-telefony.heureka.cz/nokia-3310-2017-dual-sim/'))\n",
    "    "
   ]
  }
 ],
 "metadata": {
  "kernelspec": {
   "display_name": "Python 3 (ipykernel)",
   "language": "python",
   "name": "python3"
  },
  "language_info": {
   "codemirror_mode": {
    "name": "ipython",
    "version": 3
   },
   "file_extension": ".py",
   "mimetype": "text/x-python",
   "name": "python",
   "nbconvert_exporter": "python",
   "pygments_lexer": "ipython3",
   "version": "3.9.7"
  }
 },
 "nbformat": 4,
 "nbformat_minor": 5
}
